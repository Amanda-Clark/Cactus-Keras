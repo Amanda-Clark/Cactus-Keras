{
 "cells": [
  {
   "cell_type": "markdown",
   "metadata": {
    "_uuid": "80cd9453dfdb10a8ce18d99fc32debc6add8b5d2"
   },
   "source": [
    "I used https://www.kaggle.com/masonblier/aerial-cactus-simple-cnn, https://towardsdatascience.com/image-classification-python-keras-tutorial-kaggle-challenge-45a6332a58b8, and https://github.com/keras-team/keras/blob/master/examples/mnist_cnn.py to help get me started. "
   ]
  },
  {
   "cell_type": "code",
   "execution_count": 1,
   "metadata": {
    "_cell_guid": "b1076dfc-b9ad-4769-8c92-a6c4dae69d19",
    "_uuid": "8f2839f25d086af736a60e9eeb907d3b93b6e0e5"
   },
   "outputs": [
    {
     "name": "stderr",
     "output_type": "stream",
     "text": [
      "Using TensorFlow backend.\n"
     ]
    }
   ],
   "source": [
    "import numpy as np\n",
    "import pandas as pd\n",
    "from PIL import Image\n",
    "import os\n",
    "import imageio\n",
    "from random import shuffle\n",
    "import matplotlib.pyplot as plt\n",
    "import os\n",
    "import keras\n",
    "from keras.models import Sequential\n",
    "from keras.layers import Dense, Dropout, Flatten\n",
    "from keras.layers import Conv2D, MaxPooling2D\n",
    "from keras.layers.normalization import BatchNormalization\n",
    "from keras.preprocessing.image import ImageDataGenerator\n",
    "from sklearn.model_selection import train_test_split\n",
    "from keras.applications.vgg16 import VGG16\n",
    "from keras.optimizers import Adam\n",
    "\n",
    "\n"
   ]
  },
  {
   "cell_type": "code",
   "execution_count": 2,
   "metadata": {
    "_cell_guid": "79c7e3d0-c299-4dcb-8224-4455121ee9b0",
    "_uuid": "d629ff2d2480ee46fbb7e2d37f6b5fab8052498a"
   },
   "outputs": [],
   "source": [
    "def label_img(name):\n",
    "    word_label = name.split('-')[1]\n",
    "    if word_label == 'Cactus': return 1\n",
    "    elif word_label == 'NoCactus' : return 0"
   ]
  },
  {
   "cell_type": "code",
   "execution_count": 3,
   "metadata": {
    "_uuid": "dffa887b8f8cd06ed9a094f3168834e950d2851f"
   },
   "outputs": [],
   "source": [
    "\n",
    "def load_training_data():\n",
    "    train_load = []\n",
    "    \n",
    "    for img in os.listdir('../input/labeled-training-images/labeled_train/labeled_train'):\n",
    "        strippedName = img.split('.')[0]\n",
    "        label = label_img(strippedName)\n",
    "        path = os.path.join('../input/labeled-training-images/labeled_train/labeled_train', img)\n",
    "        if \"DS_Store\" not in path:\n",
    "            img = Image.open(path)\n",
    "            train_load.append([np.array(img), label])\n",
    "           \n",
    "            \n",
    "    shuffle(train_load)\n",
    "    return train_load"
   ]
  },
  {
   "cell_type": "code",
   "execution_count": 4,
   "metadata": {
    "_uuid": "de99384c5f35ab6cd9f8265986adec668f1a6a3c"
   },
   "outputs": [],
   "source": [
    "train_data = load_training_data()\n",
    "\n",
    "trainImage = np.array([i[0] for i in train_data]).reshape(-1, 32, 32, 3)\n",
    "trainLabels = np.array([i[1] for i in train_data])\n",
    "trainLabels = keras.utils.to_categorical(trainLabels, 2)\n",
    "trainImage  = trainImage/255"
   ]
  },
  {
   "cell_type": "code",
   "execution_count": 5,
   "metadata": {},
   "outputs": [],
   "source": [
    "\n",
    "# this is the augmentation configuration we will use for training\n",
    "train_datagen = ImageDataGenerator(\n",
    "    #rescale=1. / 255,\n",
    "    shear_range=0.2,\n",
    "    zoom_range=0.2,\n",
    "    horizontal_flip=True,\n",
    "    validation_split=.15)\n",
    "\n",
    "# this is the augmentation configuration we will use for validation:\n",
    "\n",
    "val_datagen = ImageDataGenerator( shear_range=0.2,\n",
    "    zoom_range=0.2,\n",
    "    horizontal_flip=True)"
   ]
  },
  {
   "cell_type": "code",
   "execution_count": 6,
   "metadata": {},
   "outputs": [],
   "source": [
    "trainImage, valImage,trainLabels,  valLabels = train_test_split(trainImage, trainLabels, test_size=.2, random_state=30)"
   ]
  },
  {
   "cell_type": "code",
   "execution_count": 7,
   "metadata": {},
   "outputs": [],
   "source": [
    "train_generator = train_datagen.flow(trainImage, trainLabels, batch_size=32)\n",
    "val_generator = val_datagen.flow(valImage, valLabels, batch_size=32)"
   ]
  },
  {
   "cell_type": "code",
   "execution_count": 8,
   "metadata": {},
   "outputs": [
    {
     "name": "stdout",
     "output_type": "stream",
     "text": [
      "WARNING:tensorflow:From /opt/conda/lib/python3.6/site-packages/tensorflow/python/framework/op_def_library.py:263: colocate_with (from tensorflow.python.framework.ops) is deprecated and will be removed in a future version.\n",
      "Instructions for updating:\n",
      "Colocations handled automatically by placer.\n"
     ]
    }
   ],
   "source": [
    "base=VGG16(include_top=False, weights='../input/vgg16/vgg16_weights_tf_dim_ordering_tf_kernels_notop.h5',input_shape=(32,32,3))\n",
    "#print(os.listdir(\"../input/vgg16\"))"
   ]
  },
  {
   "cell_type": "code",
   "execution_count": 9,
   "metadata": {
    "_kg_hide-input": false,
    "_uuid": "12e2a85be78b622bf252f013dcfd53b94bd63ac2"
   },
   "outputs": [
    {
     "name": "stdout",
     "output_type": "stream",
     "text": [
      "WARNING:tensorflow:From /opt/conda/lib/python3.6/site-packages/keras/backend/tensorflow_backend.py:3445: calling dropout (from tensorflow.python.ops.nn_ops) with keep_prob is deprecated and will be removed in a future version.\n",
      "Instructions for updating:\n",
      "Please use `rate` instead of `keep_prob`. Rate should be set to `rate = 1 - keep_prob`.\n"
     ]
    }
   ],
   "source": [
    "model = Sequential()\n",
    "# model.add(Conv2D(32, kernel_size=(3, 3),\n",
    "#                  activation='relu',\n",
    "#                  input_shape=(32,32,3)))\n",
    "model.add(base)\n",
    "model.add(Flatten())\n",
    "# model.add(Conv2D(128, (3, 3), activation='relu'))\n",
    "# model.add(MaxPooling2D(pool_size=(2, 2)))\n",
    "# model.add(Dropout(0.25))\n",
    "# model.add(Conv2D(64, (3, 3), activation='relu'))\n",
    "# model.add(MaxPooling2D(pool_size=(2, 2)))\n",
    "# model.add(Dropout(0.25))\n",
    "# model.add(Conv2D(64, (3, 3), activation='relu'))\n",
    "# model.add(MaxPooling2D(pool_size=(2, 2)))\n",
    "# model.add(Dropout(0.25))\n",
    "# model.add(Flatten())\n",
    "\n",
    "\n",
    "model.add(Dense(1024, activation='relu'))\n",
    "model.add(Dropout(0.5))\n",
    "model.add(Dense(128, activation='relu'))\n",
    "model.add(Dropout(0.3))\n",
    "model.add(Dense(64, activation='relu'))\n",
    "model.add(Dropout(0.3))\n",
    "model.add(Dense(2, activation='softmax'))"
   ]
  },
  {
   "cell_type": "code",
   "execution_count": 10,
   "metadata": {},
   "outputs": [],
   "source": [
    "il = len(valImage)\n"
   ]
  },
  {
   "cell_type": "code",
   "execution_count": 11,
   "metadata": {
    "_uuid": "8ad85df182a3dd7c0845835a59224ddd35725225"
   },
   "outputs": [],
   "source": [
    "model.compile(loss='categorical_crossentropy', optimizer=Adam(lr=1e-5), metrics = ['accuracy'])"
   ]
  },
  {
   "cell_type": "code",
   "execution_count": 12,
   "metadata": {
    "_uuid": "4e94cbc3606ab837d3d0eedc348d1f01b9d296c2"
   },
   "outputs": [
    {
     "name": "stdout",
     "output_type": "stream",
     "text": [
      "WARNING:tensorflow:From /opt/conda/lib/python3.6/site-packages/tensorflow/python/ops/math_ops.py:3066: to_int32 (from tensorflow.python.ops.math_ops) is deprecated and will be removed in a future version.\n",
      "Instructions for updating:\n",
      "Use tf.cast instead.\n",
      "Epoch 1/500\n",
      "438/437 [==============================] - 18s 40ms/step - loss: 0.2107 - acc: 0.9025 - val_loss: 0.0470 - val_acc: 0.9829\n",
      "Epoch 2/500\n",
      "438/437 [==============================] - 13s 29ms/step - loss: 0.0597 - acc: 0.9805 - val_loss: 0.0480 - val_acc: 0.9840\n",
      "Epoch 3/500\n",
      "438/437 [==============================] - 13s 29ms/step - loss: 0.0404 - acc: 0.9876 - val_loss: 0.0428 - val_acc: 0.9866\n",
      "Epoch 4/500\n",
      "438/437 [==============================] - 13s 30ms/step - loss: 0.0368 - acc: 0.9879 - val_loss: 0.0233 - val_acc: 0.9917\n",
      "Epoch 5/500\n",
      "438/437 [==============================] - 13s 29ms/step - loss: 0.0292 - acc: 0.9902 - val_loss: 0.0336 - val_acc: 0.9889\n",
      "Epoch 6/500\n",
      "438/437 [==============================] - 13s 29ms/step - loss: 0.0247 - acc: 0.9919 - val_loss: 0.0603 - val_acc: 0.9811\n",
      "Epoch 7/500\n",
      "438/437 [==============================] - 13s 29ms/step - loss: 0.0210 - acc: 0.9928 - val_loss: 0.0346 - val_acc: 0.9911\n",
      "Epoch 8/500\n",
      "438/437 [==============================] - 13s 29ms/step - loss: 0.0214 - acc: 0.9926 - val_loss: 0.0295 - val_acc: 0.9909\n",
      "Epoch 9/500\n",
      "438/437 [==============================] - 13s 29ms/step - loss: 0.0182 - acc: 0.9937 - val_loss: 0.0225 - val_acc: 0.9923\n",
      "Epoch 10/500\n",
      "438/437 [==============================] - 13s 30ms/step - loss: 0.0167 - acc: 0.9949 - val_loss: 0.0265 - val_acc: 0.9926\n",
      "Epoch 11/500\n",
      "438/437 [==============================] - 13s 30ms/step - loss: 0.0152 - acc: 0.9946 - val_loss: 0.0900 - val_acc: 0.9737\n",
      "Epoch 12/500\n",
      "438/437 [==============================] - 13s 29ms/step - loss: 0.0119 - acc: 0.9960 - val_loss: 0.0719 - val_acc: 0.9800\n",
      "Epoch 13/500\n",
      "438/437 [==============================] - 13s 29ms/step - loss: 0.0214 - acc: 0.9930 - val_loss: 0.0234 - val_acc: 0.9934\n",
      "Epoch 14/500\n",
      "438/437 [==============================] - 13s 29ms/step - loss: 0.0125 - acc: 0.9961 - val_loss: 0.0216 - val_acc: 0.9929\n",
      "Epoch 15/500\n",
      "438/437 [==============================] - 13s 29ms/step - loss: 0.0123 - acc: 0.9962 - val_loss: 0.0427 - val_acc: 0.9891\n",
      "Epoch 16/500\n",
      "438/437 [==============================] - 13s 29ms/step - loss: 0.0125 - acc: 0.9961 - val_loss: 0.0301 - val_acc: 0.9926\n",
      "Epoch 17/500\n",
      "438/437 [==============================] - 13s 30ms/step - loss: 0.0107 - acc: 0.9966 - val_loss: 0.0294 - val_acc: 0.9917\n",
      "Epoch 18/500\n",
      "438/437 [==============================] - 13s 29ms/step - loss: 0.0099 - acc: 0.9966 - val_loss: 0.0490 - val_acc: 0.9889\n",
      "Epoch 19/500\n",
      "438/437 [==============================] - 13s 29ms/step - loss: 0.0097 - acc: 0.9971 - val_loss: 0.0257 - val_acc: 0.9914\n",
      "Epoch 20/500\n",
      "438/437 [==============================] - 13s 29ms/step - loss: 0.0086 - acc: 0.9976 - val_loss: 0.0290 - val_acc: 0.9934\n",
      "Epoch 21/500\n",
      "438/437 [==============================] - 13s 29ms/step - loss: 0.0067 - acc: 0.9977 - val_loss: 0.0298 - val_acc: 0.9917\n",
      "Epoch 22/500\n",
      "438/437 [==============================] - 13s 29ms/step - loss: 0.0064 - acc: 0.9984 - val_loss: 0.0288 - val_acc: 0.9934\n",
      "Epoch 23/500\n",
      "438/437 [==============================] - 13s 29ms/step - loss: 0.0120 - acc: 0.9964 - val_loss: 0.0242 - val_acc: 0.9940\n",
      "Epoch 24/500\n",
      "438/437 [==============================] - 13s 29ms/step - loss: 0.0086 - acc: 0.9972 - val_loss: 0.0324 - val_acc: 0.9920\n",
      "Epoch 25/500\n",
      "438/437 [==============================] - 13s 29ms/step - loss: 0.0066 - acc: 0.9981 - val_loss: 0.0232 - val_acc: 0.9931\n",
      "Epoch 26/500\n",
      "438/437 [==============================] - 13s 29ms/step - loss: 0.0051 - acc: 0.9984 - val_loss: 0.0313 - val_acc: 0.9926\n",
      "Epoch 27/500\n",
      "438/437 [==============================] - 13s 29ms/step - loss: 0.0056 - acc: 0.9984 - val_loss: 0.0317 - val_acc: 0.9946\n",
      "Epoch 28/500\n",
      "438/437 [==============================] - 12s 29ms/step - loss: 0.0052 - acc: 0.9978 - val_loss: 0.0424 - val_acc: 0.9903\n",
      "Epoch 29/500\n",
      "438/437 [==============================] - 13s 30ms/step - loss: 0.0038 - acc: 0.9990 - val_loss: 0.0347 - val_acc: 0.9917\n",
      "Epoch 30/500\n",
      "210/437 [=============>................] - ETA: 5s - loss: 0.0016 - acc: 0.9994"
     ]
    }
   ],
   "source": [
    "#model.fit(trainImage, trainLabels, epochs = 15, verbose = 1, validation_split=.15)\n",
    "#model.fit_generator(train_generator, steps_per_epoch=17500//16, verbose=1)\n",
    "history = model.fit_generator(train_generator,validation_data = val_generator,validation_steps = len(valImage)/32,\n",
    "                              steps_per_epoch=len(trainImage)/32, epochs=500)"
   ]
  },
  {
   "cell_type": "code",
   "execution_count": 13,
   "metadata": {},
   "outputs": [
    {
     "data": {
      "image/png": "[encoded data removed]",
      "text/plain": [
       "<Figure size 432x288 with 1 Axes>"
      ]
     },
     "metadata": {},
     "output_type": "display_data"
    },
    {
     "data": {
      "image/png": "[encoded data removed]",
      "text/plain": [
       "<Figure size 432x288 with 1 Axes>"
      ]
     },
     "metadata": {},
     "output_type": "display_data"
    }
   ],
   "source": [
    "\n",
    "def plot_accuracies_and_losses(history):\n",
    "    plt.title('Accuracy')\n",
    "    plt.plot(history.history['acc'])\n",
    "    plt.plot(history.history['val_acc'])\n",
    "    plt.legend(['training', 'validation'], loc='upper left')\n",
    "    plt.show()\n",
    "    \n",
    "    plt.title('Cross-entropy loss')\n",
    "    plt.plot(history.history['loss'])\n",
    "    plt.plot(history.history['val_loss'])\n",
    "    plt.legend(['training', 'validation'], loc='upper left')\n",
    "    plt.show()\n",
    "\n",
    "plot_accuracies_and_losses(history)"
   ]
  },
  {
   "cell_type": "code",
   "execution_count": 14,
   "metadata": {
    "_uuid": "5bdfd555eb4e9c2647e263599541127db85163c9"
   },
   "outputs": [],
   "source": [
    "def load_test_data():\n",
    "    test_data = []\n",
    "    names =[]\n",
    "    for img in os.listdir(\"../input/aerial-cactus-identification/test/test\"):\n",
    "        name = img\n",
    "        path = os.path.join(\"../input/aerial-cactus-identification/test/test\", img)\n",
    "        if \"DS_Store\" not in path:\n",
    "            img = Image.open(path)\n",
    "            test_data.append([np.array(img)])\n",
    "            names.append(name)\n",
    "            \n",
    "    \n",
    "    return (test_data, names)"
   ]
  },
  {
   "cell_type": "code",
   "execution_count": 15,
   "metadata": {
    "_uuid": "914a1db0c208441def6b80162edcf2cd1fcc309b"
   },
   "outputs": [],
   "source": [
    "\n",
    "(test_data, names) = load_test_data()\n",
    "\n",
    "testImages = np.array([i[0] for i in test_data]).reshape(-1, 32, 32, 3)\n",
    "testImages = testImages/255"
   ]
  },
  {
   "cell_type": "code",
   "execution_count": 16,
   "metadata": {
    "_uuid": "bd812c9c825de1ef5bb74d74e7e61459e0cc0a88"
   },
   "outputs": [],
   "source": [
    "results = model.predict_classes(testImages)"
   ]
  },
  {
   "cell_type": "code",
   "execution_count": 17,
   "metadata": {
    "_uuid": "715881d8a012d4d4a85f0db84046dcba45eefc30"
   },
   "outputs": [],
   "source": [
    "\n",
    "df = pd.DataFrame({'id':names,'has_cactus': results})\n",
    "df.index.name='id'\n",
    "\n",
    "df.to_csv(\"keras_results.csv\", index=False)"
   ]
  },
  {
   "cell_type": "code",
   "execution_count": 18,
   "metadata": {
    "_uuid": "4c6c090dc00ff62e33dd75601adb51d9716a2879"
   },
   "outputs": [],
   "source": []
  }
 ],
 "metadata": {
  "kernelspec": {
   "display_name": "Python 3",
   "language": "python",
   "name": "python3"
  },
  "language_info": {
   "codemirror_mode": {
    "name": "ipython",
    "version": 3
   },
   "file_extension": ".py",
   "mimetype": "text/x-python",
   "name": "python",
   "nbconvert_exporter": "python",
   "pygments_lexer": "ipython3",
   "version": "3.6.8"
  }
 },
 "nbformat": 4,
 "nbformat_minor": 1
}
